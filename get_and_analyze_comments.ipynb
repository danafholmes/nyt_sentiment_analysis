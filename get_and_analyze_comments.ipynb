{
 "cells": [
  {
   "cell_type": "code",
   "execution_count": 26,
   "id": "e844230a",
   "metadata": {},
   "outputs": [],
   "source": [
    "import requests\n",
    "import json\n",
    "import time\n",
    "import math\n",
    "import os"
   ]
  },
  {
   "cell_type": "code",
   "execution_count": 27,
   "id": "f2da1db7",
   "metadata": {},
   "outputs": [],
   "source": [
    "import pandas as pd\n",
    "from flair.models import TextClassifier\n",
    "from flair.data import Sentence\n",
    "import re\n",
    "from segtok.segmenter import split_single\n",
    "from textblob import TextBlob\n"
   ]
  },
  {
   "cell_type": "code",
   "execution_count": 28,
   "id": "5c79a115",
   "metadata": {},
   "outputs": [],
   "source": [
    "api_key = os.environ['NYT_SECRET']\n",
    "comments_endpoint = \"https://api.nytimes.com/svc/community/v3/user-content/url.json\"\n",
    "\n",
    "comments_api_args = {\n",
    "    \"offset\": 0,\n",
    "    \"url\": \"\"\n",
    "}"
   ]
  },
  {
   "cell_type": "code",
   "execution_count": 29,
   "id": "76a37d59",
   "metadata": {},
   "outputs": [],
   "source": [
    "#functions to do API stuff\n",
    "\n",
    "def call_nyt_api(endpoint, api_key, api_args):\n",
    "    \"\"\"A (theoretically...) reusable function to call any NYT api endpoint.\n",
    "    api_args is a dict of parameters that are appended to the API request string\n",
    "    returns a json object\"\"\"\n",
    "    args = []\n",
    "    for arg in api_args.items():\n",
    "        full_arg = \"&{key}={value}\".format(key=arg[0],value=arg[1])\n",
    "        args.append(full_arg)\n",
    "    arg_string = ''.join(args)\n",
    "    request_string = (\"{endpoint}?api-key={api_key}{arg_string}\".format(endpoint=endpoint, api_key=api_key, arg_string=arg_string))\n",
    "    api_obj = requests.get(request_string)\n",
    "    print(f\"HTTP Response: {api_obj.status_code}\")\n",
    "    return api_obj.json()\n",
    "\n",
    "\n",
    "def get_comment_page(offset, url):\n",
    "    \"\"\"get a single page of comments. returns a JSON object\"\"\"\n",
    "    endpoint = comments_endpoint\n",
    "    return call_nyt_api(endpoint, api_key, {\"offset\": offset, \"url\": url})\n",
    "\n",
    "def get_all_comments(url):\n",
    "    \"\"\"iterate through all pages of comments. returns a JSONL string object\"\"\"\n",
    "    comments = []\n",
    "    page0 = get_comment_page(0,url)\n",
    "    total_comments = page0[\"results\"][\"totalParentCommentsFound\"]\n",
    "    print(f\"Fetched Page 0. {total_comments} total comments found. Fetching {math.ceil(total_comments/25)} pages\")\n",
    "    for comment in page0[\"results\"][\"comments\"]:\n",
    "        comments.append({\"comment_id\": comment[\"commentID\"],\"comment\":comment[\"commentBody\"]})\n",
    "    offset = 25\n",
    "    #free tier api limit - sleep at least 6 seconds to avoid getting rate-limited\n",
    "    time.sleep(7)\n",
    "# to get all comments\n",
    "     while offset < total_comments:\n",
    "# to get just 2 pages of comments for faster testing\n",
    "#    while offset < 50:\n",
    "        page = get_comment_page(offset,url)\n",
    "        for comment in page[\"results\"][\"comments\"]:\n",
    "            comments.append({\"comment_id\": comment[\"commentID\"],\"comment\":comment[\"commentBody\"]})\n",
    "        print(f\"Fetched Page {offset/25}. {total_comments - offset} comments left to fetch.\")\n",
    "        offset += 25\n",
    "        #free tier api limit - sleep at least 6 seconds to avoid getting rate-limited\n",
    "        time.sleep(7)\n",
    "    comments_with_url = []\n",
    "    for comment in comments:\n",
    "        comments_with_url.append(json.dumps({\"article_url\": url, \"comment_id\": comment[\"comment_id\"], \"comment\": comment[\"comment\"]}))\n",
    "    comments_jsonl = '\\n'.join(comments_with_url)\n",
    "    return comments_jsonl"
   ]
  },
  {
   "cell_type": "code",
   "execution_count": 50,
   "id": "3ebd0af1",
   "metadata": {},
   "outputs": [],
   "source": [
    "def printProgressBar (iteration, total, prefix = '', suffix = '', decimals = 1, length = 100, fill = '█', printEnd = \"\\r\"):\n",
    "    \"\"\"\n",
    "    Call in a loop to create terminal progress bar\n",
    "    @params:\n",
    "        iteration   - Required  : current iteration (Int)\n",
    "        total       - Required  : total iterations (Int)\n",
    "        prefix      - Optional  : prefix string (Str)\n",
    "        suffix      - Optional  : suffix string (Str)\n",
    "        decimals    - Optional  : positive number of decimals in percent complete (Int)\n",
    "        length      - Optional  : character length of bar (Int)\n",
    "        fill        - Optional  : bar fill character (Str)\n",
    "        printEnd    - Optional  : end character (e.g. \"\\r\", \"\\r\\n\") (Str)\n",
    "    \n",
    "    I stole this from stack overflow because it's fun :D \n",
    "    \n",
    "    https://stackoverflow.com/questions/3173320/text-progress-bar-in-terminal-with-block-characters\n",
    "    \n",
    "    \"\"\"\n",
    "    percent = (\"{0:.\" + str(decimals) + \"f}\").format(100 * (iteration / float(total)))\n",
    "    filledLength = int(length * iteration // total)\n",
    "    bar = fill * filledLength + '-' * (length - filledLength)\n",
    "    print(f'\\r{prefix} |{bar}| {percent if int(float(percent)) < 100 else 100}% {suffix}', end = printEnd)\n"
   ]
  },
  {
   "cell_type": "code",
   "execution_count": 41,
   "id": "17e071a9",
   "metadata": {},
   "outputs": [],
   "source": [
    "#functions to do sentiment analysis stuff\n",
    "\n",
    "def clean(raw):\n",
    "    \"\"\" Remove hyperlinks and markup \"\"\"\n",
    "    result = re.sub(\"<[a][^>]*>(.+?)</[a]>\", 'Link.', raw)\n",
    "    result = re.sub('&gt;', \"\", result)\n",
    "    result = re.sub('&#x27;', \"'\", result)\n",
    "    result = re.sub('&quot;', '\"', result)\n",
    "    result = re.sub('&#x2F;', ' ', result)\n",
    "    result = re.sub('<p>', ' ', result)\n",
    "    result = re.sub('</i>', '', result)\n",
    "    result = re.sub('&#62;', '', result)\n",
    "    result = re.sub('<i>', ' ', result)\n",
    "    result = re.sub(\"\\n\", '', result)\n",
    "    return result\n",
    "\n",
    "def make_sentences(text):\n",
    "    \"\"\" Break apart text into a list of sentences \"\"\"\n",
    "    sentences = [sent for sent in split_single(text)]\n",
    "    return sentences\n",
    "\n",
    "def predict(sentence):\n",
    "    \"\"\" Predict the sentiment of a sentence \"\"\"\n",
    "    if sentence == \"\":\n",
    "        return {'flair':0,'textblob':0}\n",
    "    text = Sentence(sentence)\n",
    "    # stacked_embeddings.embed(text)\n",
    "    classifier.predict(text)\n",
    "    value = text.labels[0].to_dict()['value']\n",
    "    #print(text.to_dict())\n",
    "    if value == 'POSITIVE':\n",
    "        flair_result = text.to_dict()['labels'][0]['confidence']\n",
    "    else:\n",
    "        flair_result = -(text.to_dict()['labels'][0]['confidence'])\n",
    "    if sentence == \"\":\n",
    "        textblob_result = 0\n",
    "    blob = TextBlob(sentence)\n",
    "    textblob_result = blob.sentiment.polarity\n",
    "    textblob_subjectivity = blob.sentiment.subjectivity\n",
    "    return {'flair':round(flair_result, 3), 'textblob':round(textblob_result,3), 'subjectivity':round(textblob_subjectivity,3)}"
   ]
  },
  {
   "cell_type": "code",
   "execution_count": 42,
   "id": "d01da8a2",
   "metadata": {},
   "outputs": [
    {
     "name": "stdout",
     "output_type": "stream",
     "text": [
      "Input Article URL: https://www.nytimes.com/2022/05/04/opinion/math-education.html\n"
     ]
    }
   ],
   "source": [
    "# gets the URL we want to analyze comments on\n",
    "\n",
    "url = input('Input Article URL: ')\n"
   ]
  },
  {
   "cell_type": "code",
   "execution_count": 43,
   "id": "2a373d16",
   "metadata": {},
   "outputs": [
    {
     "name": "stdout",
     "output_type": "stream",
     "text": [
      "HTTP Response: 200\n",
      "Fetched Page 0. 104 total comments found. Fetching 5 pages\n",
      "HTTP Response: 200\n",
      "Fetched Page 1.0. 79 comments left to fetch.\n",
      "HTTP Response: 200\n",
      "Fetched Page 2.0. 54 comments left to fetch.\n"
     ]
    }
   ],
   "source": [
    "# fetch all comments. this is a JSONL string, with the assumption that at some point I might want to put this in bigquery and do the sentiment analysis on vertexAI\n",
    "\n",
    "all_comments = get_all_comments(url)"
   ]
  },
  {
   "cell_type": "code",
   "execution_count": 44,
   "id": "ab9bafe3",
   "metadata": {},
   "outputs": [
    {
     "name": "stdout",
     "output_type": "stream",
     "text": [
      "2022-05-04 14:57:30,547 loading file /Users/danaholmes/.flair/models/sentiment-en-mix-distillbert_4.pt\n"
     ]
    }
   ],
   "source": [
    "classifier = TextClassifier.load('en-sentiment')\n",
    "\n",
    "sentence_scores = []"
   ]
  },
  {
   "cell_type": "code",
   "execution_count": 51,
   "id": "d6f521da",
   "metadata": {
    "scrolled": false
   },
   "outputs": [
    {
     "name": "stdout",
     "output_type": "stream",
     "text": [
      "Reticulating Splines: |██████████████████████████████████████████████████| 100% Completee\r"
     ]
    }
   ],
   "source": [
    "\n",
    "\n",
    "l = len(all_comments.splitlines())\n",
    "\n",
    "printProgressBar(0, l, prefix = 'Progress:', suffix = 'Complete', length = 50)\n",
    "\n",
    "for i, comment in enumerate(all_comments.splitlines(), start=1):\n",
    "    p = json.loads(comment)\n",
    "    # print(p[\"comment\"])\n",
    "    p_blob = p[\"comment\"]\n",
    "    sentences = make_sentences(clean(p_blob))\n",
    "    printProgressBar(i + 1, l, prefix = 'Reticulating Splines:', suffix = 'Complete', length = 50)\n",
    "    for sentence in sentences:\n",
    "        #print({'commentID': p[\"comment_id\"],'sentence':sentence, 'score':predict(sentence)})\n",
    "        prediction = predict(sentence)\n",
    "        sentence_scores.append({'commentID': p[\"comment_id\"],'sentence':sentence, 'flair_score':prediction['flair'], 'text_blob_score':prediction['textblob'], 'subjectivity':prediction['subjectivity']})"
   ]
  },
  {
   "cell_type": "code",
   "execution_count": 52,
   "id": "e2a86e52",
   "metadata": {},
   "outputs": [],
   "source": [
    "df = pd.DataFrame()\n",
    "\n",
    "# print(sentence_scores[0])\n",
    "for sentence in sentence_scores:\n",
    "#     #print({\"comment_id\": sentence[\"commentID\"], \"sentence\": sentence[\"sentence\"], \"score\": sentence[\"score\"]})\n",
    "    df = df.append({\"comment_id\": sentence[\"commentID\"], \"sentence\": sentence[\"sentence\"], \"flair_score\": sentence[\"flair_score\"], \"textblob_score\": sentence[\"text_blob_score\"], \"subjectivity\": sentence[\"subjectivity\"]}, ignore_index=True)"
   ]
  },
  {
   "cell_type": "code",
   "execution_count": 53,
   "id": "0aef3d51",
   "metadata": {},
   "outputs": [
    {
     "data": {
      "text/html": [
       "<div>\n",
       "<style scoped>\n",
       "    .dataframe tbody tr th:only-of-type {\n",
       "        vertical-align: middle;\n",
       "    }\n",
       "\n",
       "    .dataframe tbody tr th {\n",
       "        vertical-align: top;\n",
       "    }\n",
       "\n",
       "    .dataframe thead th {\n",
       "        text-align: right;\n",
       "    }\n",
       "</style>\n",
       "<table border=\"1\" class=\"dataframe\">\n",
       "  <thead>\n",
       "    <tr style=\"text-align: right;\">\n",
       "      <th></th>\n",
       "      <th>comment_id</th>\n",
       "      <th>flair_score</th>\n",
       "      <th>sentence</th>\n",
       "      <th>subjectivity</th>\n",
       "      <th>textblob_score</th>\n",
       "    </tr>\n",
       "  </thead>\n",
       "  <tbody>\n",
       "    <tr>\n",
       "      <th>1</th>\n",
       "      <td>118165246.0</td>\n",
       "      <td>-0.999</td>\n",
       "      <td>Otherwise, we are always behind.We also aren't talking about remedial education that is sorely needed to prepare young people that were ill-served by their poor schools just because they were born poor.</td>\n",
       "      <td>0.533</td>\n",
       "      <td>-0.233</td>\n",
       "    </tr>\n",
       "    <tr>\n",
       "      <th>2</th>\n",
       "      <td>118165241.0</td>\n",
       "      <td>0.994</td>\n",
       "      <td>Parents can be a terrific help in math, even at an early age.</td>\n",
       "      <td>0.650</td>\n",
       "      <td>0.050</td>\n",
       "    </tr>\n",
       "    <tr>\n",
       "      <th>5</th>\n",
       "      <td>118165241.0</td>\n",
       "      <td>0.633</td>\n",
       "      <td>It is not difficult when you make it a game.</td>\n",
       "      <td>0.700</td>\n",
       "      <td>-0.075</td>\n",
       "    </tr>\n",
       "    <tr>\n",
       "      <th>6</th>\n",
       "      <td>118165228.0</td>\n",
       "      <td>-0.982</td>\n",
       "      <td>Why is it a surprise that US students are behind in math?</td>\n",
       "      <td>0.700</td>\n",
       "      <td>-0.400</td>\n",
       "    </tr>\n",
       "    <tr>\n",
       "      <th>7</th>\n",
       "      <td>118165228.0</td>\n",
       "      <td>0.997</td>\n",
       "      <td>This country is behind in every metric compared to other advanced countries who put their money into health care, education, and quality of life for the average citizen as opposed to giving huge tax cuts to the oligarchs who fund their chosen politicians.</td>\n",
       "      <td>0.595</td>\n",
       "      <td>0.025</td>\n",
       "    </tr>\n",
       "    <tr>\n",
       "      <th>...</th>\n",
       "      <td>...</td>\n",
       "      <td>...</td>\n",
       "      <td>...</td>\n",
       "      <td>...</td>\n",
       "      <td>...</td>\n",
       "    </tr>\n",
       "    <tr>\n",
       "      <th>450</th>\n",
       "      <td>118160839.0</td>\n",
       "      <td>-0.984</td>\n",
       "      <td>As a high school math teacher with 28 years of experience, it's my opinion that poor math performance in the U.S. isn't due to any one cause but is instead a perfect storm of several factors:(1) A culture of immediate gratification and shortened attention spans.</td>\n",
       "      <td>0.503</td>\n",
       "      <td>0.127</td>\n",
       "    </tr>\n",
       "    <tr>\n",
       "      <th>451</th>\n",
       "      <td>118160839.0</td>\n",
       "      <td>-0.992</td>\n",
       "      <td>Teens embody the \"I want it now\" attitude prevlant today which allows little patience for mastering the many facts and skills necessary for mathematics.</td>\n",
       "      <td>0.667</td>\n",
       "      <td>0.104</td>\n",
       "    </tr>\n",
       "    <tr>\n",
       "      <th>453</th>\n",
       "      <td>118160839.0</td>\n",
       "      <td>-1.000</td>\n",
       "      <td>The dopamine bursts they seek in Tik-Tok videos, Instagram posts and the like are no match for the static images and abstractions inherent in math.</td>\n",
       "      <td>0.900</td>\n",
       "      <td>0.500</td>\n",
       "    </tr>\n",
       "    <tr>\n",
       "      <th>454</th>\n",
       "      <td>118160839.0</td>\n",
       "      <td>-0.966</td>\n",
       "      <td>NYU professor Jonathan Haidt has written extensively about the need to limit screen time and cell phone use.(2) Unstable homes where children are anxious and unhappy.</td>\n",
       "      <td>0.744</td>\n",
       "      <td>-0.283</td>\n",
       "    </tr>\n",
       "    <tr>\n",
       "      <th>455</th>\n",
       "      <td>118160839.0</td>\n",
       "      <td>-0.576</td>\n",
       "      <td>Paul Tough, in his excellent book \"How Children Succeed,\" writes about how the stress hormone cortisol inhibits learning and how forming a \"positive attachment\" with one's mother can counteract this dynamic.</td>\n",
       "      <td>0.636</td>\n",
       "      <td>0.210</td>\n",
       "    </tr>\n",
       "  </tbody>\n",
       "</table>\n",
       "<p>135 rows × 5 columns</p>\n",
       "</div>"
      ],
      "text/plain": [
       "      comment_id  flair_score  \\\n",
       "1    118165246.0       -0.999   \n",
       "2    118165241.0        0.994   \n",
       "5    118165241.0        0.633   \n",
       "6    118165228.0       -0.982   \n",
       "7    118165228.0        0.997   \n",
       "..           ...          ...   \n",
       "450  118160839.0       -0.984   \n",
       "451  118160839.0       -0.992   \n",
       "453  118160839.0       -1.000   \n",
       "454  118160839.0       -0.966   \n",
       "455  118160839.0       -0.576   \n",
       "\n",
       "                                                                                                                                                                                                                                                                   sentence  \\\n",
       "1                                                                Otherwise, we are always behind.We also aren't talking about remedial education that is sorely needed to prepare young people that were ill-served by their poor schools just because they were born poor.   \n",
       "2                                                                                                                                                                                                             Parents can be a terrific help in math, even at an early age.   \n",
       "5                                                                                                                                                                                                                              It is not difficult when you make it a game.   \n",
       "6                                                                                                                                                                                                                 Why is it a surprise that US students are behind in math?   \n",
       "7           This country is behind in every metric compared to other advanced countries who put their money into health care, education, and quality of life for the average citizen as opposed to giving huge tax cuts to the oligarchs who fund their chosen politicians.   \n",
       "..                                                                                                                                                                                                                                                                      ...   \n",
       "450  As a high school math teacher with 28 years of experience, it's my opinion that poor math performance in the U.S. isn't due to any one cause but is instead a perfect storm of several factors:(1) A culture of immediate gratification and shortened attention spans.   \n",
       "451                                                                                                                Teens embody the \"I want it now\" attitude prevlant today which allows little patience for mastering the many facts and skills necessary for mathematics.   \n",
       "453                                                                                                                     The dopamine bursts they seek in Tik-Tok videos, Instagram posts and the like are no match for the static images and abstractions inherent in math.   \n",
       "454                                                                                                  NYU professor Jonathan Haidt has written extensively about the need to limit screen time and cell phone use.(2) Unstable homes where children are anxious and unhappy.   \n",
       "455                                                         Paul Tough, in his excellent book \"How Children Succeed,\" writes about how the stress hormone cortisol inhibits learning and how forming a \"positive attachment\" with one's mother can counteract this dynamic.   \n",
       "\n",
       "     subjectivity  textblob_score  \n",
       "1           0.533          -0.233  \n",
       "2           0.650           0.050  \n",
       "5           0.700          -0.075  \n",
       "6           0.700          -0.400  \n",
       "7           0.595           0.025  \n",
       "..            ...             ...  \n",
       "450         0.503           0.127  \n",
       "451         0.667           0.104  \n",
       "453         0.900           0.500  \n",
       "454         0.744          -0.283  \n",
       "455         0.636           0.210  \n",
       "\n",
       "[135 rows x 5 columns]"
      ]
     },
     "execution_count": 53,
     "metadata": {},
     "output_type": "execute_result"
    }
   ],
   "source": [
    "pd.set_option('display.max_colwidth', None)\n",
    "\n",
    "#df.loc[df['subjectivity'] > .5]"
   ]
  },
  {
   "cell_type": "code",
   "execution_count": 56,
   "id": "3337df44",
   "metadata": {},
   "outputs": [
    {
     "name": "stdout",
     "output_type": "stream",
     "text": [
      "Total Comments: 62\n",
      "Average Comment Scores:\n",
      "  Flair: -0.08499543010752689\n",
      "  TextBlob: 0.11792930107526882\n"
     ]
    }
   ],
   "source": [
    "#loc method to filter to only comments with subjectivity >.5\n",
    "average_by_comment = df.loc[df['subjectivity'] > .5].groupby(['comment_id'], as_index = False).mean()\n",
    "\n",
    "\n",
    "average_comment_score_flair = average_by_comment[\"flair_score\"].mean(axis = 'index')\n",
    "average_comment_score_textblob = average_by_comment[\"textblob_score\"].mean(axis = 'index')\n",
    "count_comments = average_by_comment[\"comment_id\"].count()\n",
    "# deviation = average_by_comment[\"score\"].std()\n",
    "\n",
    "print(f\"Total Comments: {count_comments}\")\n",
    "print(\"Average Comment Scores:\")\n",
    "print(f\"  Flair: {average_comment_score_flair}\")\n",
    "print(f\"  TextBlob: {average_comment_score_textblob}\")\n",
    "# print(f\"Standard Deviation: {deviation}\")\n"
   ]
  },
  {
   "cell_type": "code",
   "execution_count": null,
   "id": "45106e93",
   "metadata": {},
   "outputs": [],
   "source": []
  },
  {
   "cell_type": "code",
   "execution_count": null,
   "id": "ad34b82d",
   "metadata": {},
   "outputs": [],
   "source": []
  },
  {
   "cell_type": "code",
   "execution_count": null,
   "id": "706a9df2",
   "metadata": {},
   "outputs": [],
   "source": []
  }
 ],
 "metadata": {
  "kernelspec": {
   "display_name": "Python 3",
   "language": "python",
   "name": "python3"
  },
  "language_info": {
   "codemirror_mode": {
    "name": "ipython",
    "version": 3
   },
   "file_extension": ".py",
   "mimetype": "text/x-python",
   "name": "python",
   "nbconvert_exporter": "python",
   "pygments_lexer": "ipython3",
   "version": "3.6.13"
  }
 },
 "nbformat": 4,
 "nbformat_minor": 5
}
